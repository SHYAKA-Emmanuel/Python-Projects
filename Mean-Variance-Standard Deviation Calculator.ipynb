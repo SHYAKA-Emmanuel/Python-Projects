{
 "cells": [
  {
   "cell_type": "code",
   "execution_count": 2,
   "id": "e6806cd9-5725-41d7-ae52-41f915277bb3",
   "metadata": {},
   "outputs": [],
   "source": [
    "import numpy as np\n",
    "\n",
    "def calculate(list_of_numbers):\n",
    "    if len(list_of_numbers) != 9:\n",
    "        raise ValueError(\"List must contain nine numbers.\")\n",
    "    \n",
    "    # Convert the list into a 3x3 NumPy array\n",
    "    matrix = np.array(list_of_numbers).reshape(3, 3)\n",
    "    \n",
    "    calculations = {\n",
    "        'mean': [\n",
    "            matrix.mean(axis=0).tolist(),    # Mean of each column\n",
    "            matrix.mean(axis=1).tolist(),    # Mean of each row\n",
    "            matrix.mean().tolist()           # Mean of the flattened matrix\n",
    "        ],\n",
    "        'variance': [\n",
    "            matrix.var(axis=0).tolist(),     # Variance of each column\n",
    "            matrix.var(axis=1).tolist(),     # Variance of each row\n",
    "            matrix.var().tolist()            # Variance of the flattened matrix\n",
    "        ],\n",
    "        'standard deviation': [\n",
    "            matrix.std(axis=0).tolist(),     # Standard deviation of each column\n",
    "            matrix.std(axis=1).tolist(),     # Standard deviation of each row\n",
    "            matrix.std().tolist()            # Standard deviation of the flattened matrix\n",
    "        ],\n",
    "        'max': [\n",
    "            matrix.max(axis=0).tolist(),     # Max of each column\n",
    "            matrix.max(axis=1).tolist(),     # Max of each row\n",
    "            matrix.max().tolist()            # Max of the flattened matrix\n",
    "        ],\n",
    "        'min': [\n",
    "            matrix.min(axis=0).tolist(),     # Min of each column\n",
    "            matrix.min(axis=1).tolist(),     # Min of each row\n",
    "            matrix.min().tolist()            # Min of the flattened matrix\n",
    "        ],\n",
    "        'sum': [\n",
    "            matrix.sum(axis=0).tolist(),     # Sum of each column\n",
    "            matrix.sum(axis=1).tolist(),     # Sum of each row\n",
    "            matrix.sum().tolist()            # Sum of the flattened matrix\n",
    "        ]\n",
    "    }\n",
    "    \n",
    "    return calculations\n",
    "\n",
    "\n",
    "\n",
    "\n"
   ]
  },
  {
   "cell_type": "code",
   "execution_count": 3,
   "id": "8aff7ce4-a0b2-4406-80bc-86140d87c051",
   "metadata": {},
   "outputs": [
    {
     "name": "stdout",
     "output_type": "stream",
     "text": [
      "{'mean': [[3.0, 4.0, 5.0], [1.0, 4.0, 7.0], 4.0], 'variance': [[6.0, 6.0, 6.0], [0.6666666666666666, 0.6666666666666666, 0.6666666666666666], 6.666666666666667], 'standard deviation': [[2.449489742783178, 2.449489742783178, 2.449489742783178], [0.816496580927726, 0.816496580927726, 0.816496580927726], 2.581988897471611], 'max': [[6, 7, 8], [2, 5, 8], 8], 'min': [[0, 1, 2], [0, 3, 6], 0], 'sum': [[9, 12, 15], [3, 12, 21], 36]}\n"
     ]
    }
   ],
   "source": [
    "\n",
    "if __name__ == \"__main__\":\n",
    "    test_list = [0, 1, 2, 3, 4, 5, 6, 7, 8]\n",
    "    result = calculate(test_list)\n",
    "    print(result)\n"
   ]
  },
  {
   "cell_type": "code",
   "execution_count": null,
   "id": "ab906614-15bc-4ba3-84ed-c2de50e83424",
   "metadata": {},
   "outputs": [],
   "source": []
  },
  {
   "cell_type": "code",
   "execution_count": null,
   "id": "5ed1fd2d-e805-4163-92a3-f22ff7828f63",
   "metadata": {},
   "outputs": [],
   "source": []
  },
  {
   "cell_type": "code",
   "execution_count": null,
   "id": "b6584810-962b-41be-96ce-f386d25f52d2",
   "metadata": {},
   "outputs": [],
   "source": []
  },
  {
   "cell_type": "code",
   "execution_count": null,
   "id": "6db3c637-ed63-49b5-acbe-30445a6c1aa8",
   "metadata": {},
   "outputs": [],
   "source": []
  },
  {
   "cell_type": "code",
   "execution_count": null,
   "id": "5f6a0d0b-9398-47ce-8de6-bce89301d54d",
   "metadata": {},
   "outputs": [],
   "source": []
  },
  {
   "cell_type": "code",
   "execution_count": null,
   "id": "2f69df3e-3cc4-44d0-9d84-ec5bc632274c",
   "metadata": {},
   "outputs": [],
   "source": []
  },
  {
   "cell_type": "code",
   "execution_count": null,
   "id": "88855308-df9c-48d7-9ca4-0fdf01b0937a",
   "metadata": {},
   "outputs": [],
   "source": []
  }
 ],
 "metadata": {
  "kernelspec": {
   "display_name": "Python 3 (ipykernel)",
   "language": "python",
   "name": "python3"
  },
  "language_info": {
   "codemirror_mode": {
    "name": "ipython",
    "version": 3
   },
   "file_extension": ".py",
   "mimetype": "text/x-python",
   "name": "python",
   "nbconvert_exporter": "python",
   "pygments_lexer": "ipython3",
   "version": "3.11.7"
  }
 },
 "nbformat": 4,
 "nbformat_minor": 5
}

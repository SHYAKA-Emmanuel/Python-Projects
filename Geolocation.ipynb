{
 "cells": [
  {
   "cell_type": "code",
   "execution_count": null,
   "id": "c46c8bab-1307-4c63-85bb-829378dfac55",
   "metadata": {},
   "outputs": [
    {
     "name": "stdin",
     "output_type": "stream",
     "text": [
      "Enter location:  South Federal University\n"
     ]
    },
    {
     "name": "stdout",
     "output_type": "stream",
     "text": [
      "Retrieving https://py4e-data.dr-chuck.net/opengeo?q=South+Federal+University\n",
      "Retrieved 1465 characters {\"type\":\"FeatureColl\n",
      "lat 7.7921375 lon 6.7319975\n",
      "Federal University Lokoja, A233, Lokoja 260101, KO, Nigeria\n"
     ]
    },
    {
     "name": "stdin",
     "output_type": "stream",
     "text": [
      "Enter location:  University of Rwanda\n"
     ]
    },
    {
     "name": "stdout",
     "output_type": "stream",
     "text": [
      "Retrieving https://py4e-data.dr-chuck.net/opengeo?q=University+of+Rwanda\n",
      "Retrieved 1395 characters {\"type\":\"FeatureColl\n",
      "lat -2.6154118 lon 29.74386132522423\n",
      "National University of Rwanda, Avenue de l'Université, Huye, Rwanda\n"
     ]
    },
    {
     "name": "stdin",
     "output_type": "stream",
     "text": [
      "Enter location:  INES-Ruhengeri\n"
     ]
    },
    {
     "name": "stdout",
     "output_type": "stream",
     "text": [
      "Retrieving https://py4e-data.dr-chuck.net/opengeo?q=INES-Ruhengeri\n",
      "Retrieved 1470 characters {\"type\":\"FeatureColl\n",
      "lat 46.0282937 lon 16.5438326\n",
      "Ines, Ulica Tadije Smičiklasa 8, 48260 Grad Križevci, Croatia\n"
     ]
    }
   ],
   "source": [
    "import urllib.request, urllib.parse\n",
    "import json, ssl\n",
    "\n",
    "# Heavily rate limited proxy of https://www.geoapify.com/ api\n",
    "serviceurl = 'https://py4e-data.dr-chuck.net/opengeo?'\n",
    "\n",
    "# Ignore SSL certificate errors\n",
    "ctx = ssl.create_default_context()\n",
    "ctx.check_hostname = False\n",
    "ctx.verify_mode = ssl.CERT_NONE\n",
    "\n",
    "while True:\n",
    "    address = input('Enter location: ')\n",
    "    if len(address) < 1: break\n",
    "\n",
    "    address = address.strip()\n",
    "    parms = dict()\n",
    "    parms['q'] = address\n",
    "\n",
    "    url = serviceurl + urllib.parse.urlencode(parms)\n",
    "\n",
    "    print('Retrieving', url)\n",
    "    uh = urllib.request.urlopen(url, context=ctx)\n",
    "    data = uh.read().decode()\n",
    "    print('Retrieved', len(data), 'characters', data[:20].replace('\\n', ' '))\n",
    "\n",
    "    try:\n",
    "        js = json.loads(data)\n",
    "    except:\n",
    "        js = None\n",
    "\n",
    "    if not js or 'features' not in js:\n",
    "        print('==== Download error ===')\n",
    "        print(data)\n",
    "        break\n",
    "\n",
    "    if len(js['features']) == 0:\n",
    "        print('==== Object not found ====')\n",
    "        print(data)\n",
    "        break\n",
    "\n",
    "    # print(json.dumps(js, indent=4))\n",
    "\n",
    "    lat = js['features'][0]['properties']['lat']\n",
    "    lon = js['features'][0]['properties']['lon']\n",
    "    print('lat', lat, 'lon', lon)\n",
    "    location = js['features'][0]['properties']['formatted']\n",
    "    print(location)\n"
   ]
  },
  {
   "cell_type": "code",
   "execution_count": null,
   "id": "e7c01029-35c8-4a56-9658-75b4ef98bc72",
   "metadata": {},
   "outputs": [],
   "source": []
  }
 ],
 "metadata": {
  "kernelspec": {
   "display_name": "Python 3 (ipykernel)",
   "language": "python",
   "name": "python3"
  },
  "language_info": {
   "codemirror_mode": {
    "name": "ipython",
    "version": 3
   },
   "file_extension": ".py",
   "mimetype": "text/x-python",
   "name": "python",
   "nbconvert_exporter": "python",
   "pygments_lexer": "ipython3",
   "version": "3.11.7"
  }
 },
 "nbformat": 4,
 "nbformat_minor": 5
}

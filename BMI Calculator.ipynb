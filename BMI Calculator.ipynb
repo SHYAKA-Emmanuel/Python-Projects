{
 "cells": [
  {
   "cell_type": "markdown",
   "id": "d59af5cd-3af8-40a7-b71c-376043b609da",
   "metadata": {},
   "source": [
    "BMI Calculator"
   ]
  },
  {
   "cell_type": "code",
   "execution_count": 2,
   "id": "01f6bd99-6496-4d9c-93e8-df1f631221fa",
   "metadata": {},
   "outputs": [
    {
     "name": "stdin",
     "output_type": "stream",
     "text": [
      "Enter your name:  SHYAKA\n",
      "Enter your weight in pounds:  214\n",
      "Enter your height in inches:  1.89\n"
     ]
    },
    {
     "name": "stdout",
     "output_type": "stream",
     "text": [
      "Your BMI is: 42115.84222166233\n",
      "SHYAKA, you are morbidly obese.\n"
     ]
    }
   ],
   "source": [
    "def calculate_bmi(weight, height):\n",
    "    return (weight * 703) / (height * height)\n",
    "\n",
    "def interpret_bmi(bmi, name):\n",
    "    if bmi > 0:\n",
    "        if bmi < 18.5:\n",
    "            print(name + \", you are underweight.\")\n",
    "        elif bmi <= 24.9:\n",
    "            print(name + \", you are at a normal weight.\")\n",
    "        elif bmi < 29.9:\n",
    "            print(name + \", you are overweight. Consider exercising more and reducing sedentary activities.\")\n",
    "        elif bmi < 34.9:\n",
    "            print(name + \", you are obese.\")\n",
    "        elif bmi < 39.9:\n",
    "            print(name + \", you are severely obese.\")\n",
    "        else:\n",
    "            print(name + \", you are morbidly obese.\")\n",
    "    else:\n",
    "        print(\"Enter valid input.\")\n",
    "\n",
    "if __name__ == \"__main__\":\n",
    "    name = input(\"Enter your name: \")\n",
    "    weight = float(input(\"Enter your weight in pounds: \"))\n",
    "    height = float(input(\"Enter your height in inches: \"))\n",
    "    \n",
    "    bmi = calculate_bmi(weight, height)\n",
    "    print(\"Your BMI is:\", bmi)\n",
    "    interpret_bmi(bmi, name)\n"
   ]
  },
  {
   "cell_type": "code",
   "execution_count": null,
   "id": "4801771f-15c3-4055-b738-34a8f771da9d",
   "metadata": {},
   "outputs": [],
   "source": []
  }
 ],
 "metadata": {
  "kernelspec": {
   "display_name": "Python 3 (ipykernel)",
   "language": "python",
   "name": "python3"
  },
  "language_info": {
   "codemirror_mode": {
    "name": "ipython",
    "version": 3
   },
   "file_extension": ".py",
   "mimetype": "text/x-python",
   "name": "python",
   "nbconvert_exporter": "python",
   "pygments_lexer": "ipython3",
   "version": "3.11.7"
  }
 },
 "nbformat": 4,
 "nbformat_minor": 5
}

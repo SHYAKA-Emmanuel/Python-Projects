{
 "cells": [
  {
   "cell_type": "markdown",
   "id": "580564e1-0ad2-416d-8245-1a3e7650bad1",
   "metadata": {},
   "source": [
    "#Using the GeoJSON API"
   ]
  },
  {
   "cell_type": "markdown",
   "id": "41f5bfa5-3bd9-4025-a714-3c818929d7ab",
   "metadata": {},
   "source": [
    "Calling a JSON API\n",
    "\n",
    "In this assignment you will write a Python program somewhat similar to http://www.py4e.com/code3/opengeo.py. The program will prompt for a location, contact a web service and retrieve JSON for the web service and parse that data, and retrieve the first plus_code from the JSON. An Open Location Code is a textual identifier that is another form of address based on the location of the address.\n",
    "API End Points\n",
    "\n",
    "To complete this assignment, you should use this API endpoint that has a static subset of the Open Street Map Data.\n",
    "\n",
    "http://py4e-data.dr-chuck.net/opengeo?\n",
    "This API also has no rate limit so you can test as often as you like. If you visit the URL with no parameters, you get \"No address...\" response.\n",
    "To call the API, you need to provide the address that you are requesting as the q= parameter that is properly URL encoded using the urllib.parse.urlencode() function as shown in http://www.py4e.com/code3/opengeo.py\n",
    "\n",
    "Test Data / Sample Execution\n",
    "\n",
    "You can test to see if your program is working with a location of \"South Federal University\" which will have a plus_code of \"6FV8QPRJ+VQ\".\n",
    "\n",
    "$ python solution.py\n",
    "Enter location: South Federal University\n",
    "Retrieving http://...\n",
    "Retrieved 1466 characters\n",
    "Plus code 6FV8QPRJ+VQ\n",
    "Turn In\n",
    "\n",
    "Please run your program to find the plus_code for this location:\n",
    "\n",
    "University of Malaya\n",
    "Make sure to enter the name and case exactly as above and enter the plus_code and your Python code below. Hint: The first five characters of the plus_code are \"6PM34 ...\"\n",
    "Make sure to retreive the data from the URL specified above and not the normal Google API. Your program should work with the Google API - but the plus_code may not match for this assignment."
   ]
  },
  {
   "cell_type": "code",
   "execution_count": 3,
   "id": "61468180-1223-4091-93be-b291ec9ecd73",
   "metadata": {
    "editable": true,
    "slideshow": {
     "slide_type": ""
    },
    "tags": []
   },
   "outputs": [
    {
     "name": "stdout",
     "output_type": "stream",
     "text": [
      "Retrieving https://py4e-data.dr-chuck.net/opengeo?q=University+of+Malaya\n",
      "Retrieved 1420 characters\n",
      "Plus code: 6PM34MG4+89\n"
     ]
    }
   ],
   "source": [
    "import urllib.request, urllib.parse\n",
    "import json, ssl\n",
    "\n",
    "# Heavily rate limited proxy of https://www.geoapify.com/ api\n",
    "serviceurl = 'https://py4e-data.dr-chuck.net/opengeo?'\n",
    "\n",
    "# Ignore SSL certificate errors\n",
    "ctx = ssl.create_default_context()\n",
    "ctx.check_hostname = False\n",
    "ctx.verify_mode = ssl.CERT_NONE\n",
    "\n",
    "def retrievePlusCode(address):\n",
    "    address = address.strip()\n",
    "    parms = dict()\n",
    "    parms['q'] = address\n",
    "\n",
    "    url = serviceurl + urllib.parse.urlencode(parms)\n",
    "\n",
    "    print('Retrieving', url)\n",
    "    uh = urllib.request.urlopen(url, context=ctx)\n",
    "    data = uh.read().decode()\n",
    "    print('Retrieved', len(data), 'characters')\n",
    "\n",
    "    try:\n",
    "        js = json.loads(data)\n",
    "    except:\n",
    "        js = None\n",
    "\n",
    "    plus_code = js['features'][0]['properties']['plus_code']\n",
    "    print(f'Plus code: {plus_code}')\n",
    "\n",
    "retrievePlusCode( 'University of Malaya')\n"
   ]
  }
 ],
 "metadata": {
  "kernelspec": {
   "display_name": "Python 3 (ipykernel)",
   "language": "python",
   "name": "python3"
  },
  "language_info": {
   "codemirror_mode": {
    "name": "ipython",
    "version": 3
   },
   "file_extension": ".py",
   "mimetype": "text/x-python",
   "name": "python",
   "nbconvert_exporter": "python",
   "pygments_lexer": "ipython3",
   "version": "3.11.7"
  }
 },
 "nbformat": 4,
 "nbformat_minor": 5
}
